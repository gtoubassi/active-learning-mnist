{
  "nbformat": 4,
  "nbformat_minor": 0,
  "metadata": {
    "colab": {
      "name": "Active Learning with MNIST",
      "version": "0.3.2",
      "provenance": [],
      "collapsed_sections": [],
      "include_colab_link": true
    },
    "kernelspec": {
      "name": "python3",
      "display_name": "Python 3"
    }
  },
  "cells": [
    {
      "cell_type": "markdown",
      "metadata": {
        "id": "view-in-github",
        "colab_type": "text"
      },
      "source": [
        "<a href=\"https://colab.research.google.com/github/gtoubassi/active-learning-mnist/blob/master/Active_Learning_with_MNIST.ipynb\" target=\"_parent\"><img src=\"https://colab.research.google.com/assets/colab-badge.svg\" alt=\"Open In Colab\"/></a>"
      ]
    },
    {
      "cell_type": "markdown",
      "metadata": {
        "id": "sxBs-sAm37JB",
        "colab_type": "text"
      },
      "source": [
        "# Active Learning with MNIST\n",
        "\n",
        "The following is a simple example of the benefits of active learning.  When you have lots of data, but labeling costs are high, you want to choose wisely which data to label.  i.e. Label the first 1,000 items, train a model, then use that model to pick what 1,000 items to label next.  Using the model to pick which samples to label next can be more efficient then just randomly labeling more data.  The intuition behind this is that you want to select samples that are closest to the decision boundary, as they are likey to impact accuracy most, whereas samples far from the decision boundary probably will not change accuracy.  How do we prioritize different samples to label?  There are a few options demonstrated below, but the simplest and most intuitive is to simply pick the item which have the lowest confidence prediction from the existing model (i.e. the samples that the model is most unsure about).\n",
        "\n",
        "In the below notebook we train MNIST by starting with 500 labels, and then prioritize each incremental 500 labeled samples based on how the current model views them (e.g. choose the 500 that have the lowest confidence prediction).  We compare to a simple baseline where we  randomly add items at each iteration.  The baseline gives a sense for how much the model benefits from additional data.\n",
        "\n",
        "### References\n",
        "https://www.datacamp.com/community/tutorials/active-learning"
      ]
    },
    {
      "cell_type": "markdown",
      "metadata": {
        "id": "efQQtTX6h-sE",
        "colab_type": "text"
      },
      "source": [
        "## Install and import dependencies"
      ]
    },
    {
      "cell_type": "code",
      "metadata": {
        "id": "LE1gcKh0hw0X",
        "colab_type": "code",
        "colab": {}
      },
      "source": [
        "from __future__ import absolute_import, division, print_function, unicode_literals\n",
        "\n",
        "# Install TensorFlow\n",
        "!pip install -q tensorflow==2.0.0-beta1\n",
        "\n",
        "import numpy as np\n",
        "import tensorflow as tf\n",
        "import matplotlib as mpl\n",
        "import matplotlib.pyplot as plt\n",
        "%matplotlib inline\n"
      ],
      "execution_count": 0,
      "outputs": []
    },
    {
      "cell_type": "markdown",
      "metadata": {
        "id": "fjyJAQnUiZod",
        "colab_type": "text"
      },
      "source": [
        "## Load MNIST Data"
      ]
    },
    {
      "cell_type": "code",
      "metadata": {
        "id": "utCSxxsBiXk5",
        "colab_type": "code",
        "colab": {}
      },
      "source": [
        "mnist = tf.keras.datasets.mnist\n",
        "\n",
        "(x_train, y_train), (x_test, y_test) = mnist.load_data()\n",
        "x_train, x_test = x_train / 255.0, x_test / 255.0"
      ],
      "execution_count": 0,
      "outputs": []
    },
    {
      "cell_type": "markdown",
      "metadata": {
        "id": "1T2T-1E0ipec",
        "colab_type": "text"
      },
      "source": [
        "## Define Function for Evaluating Labeling Prioritization Schemes\n",
        "This function evaluates test accuracy after training on 500 items, then 1,000, then 1,500, etc up to 20,000 items.  At each iteration it decides what 500 items to add to the training set based on the prioritizer.  The prioritizer is given the predictions made by the model on the remaining samples so it can decide which ones are most productive to train on.\n"
      ]
    },
    {
      "cell_type": "code",
      "metadata": {
        "id": "8wZaMHh4w_Ro",
        "colab_type": "code",
        "colab": {}
      },
      "source": [
        "def eval_prioritization_strategy(prioritizer):\n",
        "  train_indices = range(60000)\n",
        "\n",
        "  test_accuracies = []\n",
        "  x_train_subset = np.zeros([0, 28, 28])\n",
        "  y_train_subset = np.empty([0,])\n",
        "\n",
        "  for i in range(40):\n",
        "    selected_indices = train_indices[0:500]\n",
        "    train_indices = train_indices[500:]\n",
        "    x_train_subset = np.concatenate((x_train_subset, x_train[selected_indices,...]))\n",
        "    y_train_subset = np.concatenate((y_train_subset, y_train[selected_indices,...]))\n",
        "\n",
        "    model = tf.keras.models.Sequential([\n",
        "      tf.keras.layers.Flatten(input_shape=(28, 28)),\n",
        "      tf.keras.layers.Dense(128, activation='relu'),\n",
        "      tf.keras.layers.Dense(10, activation='softmax')\n",
        "    ])\n",
        "\n",
        "    model.compile(optimizer='adam',\n",
        "                  loss='sparse_categorical_crossentropy',\n",
        "                  metrics=['accuracy'])\n",
        "    model.fit(x_train_subset, y_train_subset, epochs=5, verbose=0)\n",
        "    loss, accuracy = model.evaluate(x_test, y_test, verbose=0)\n",
        "    test_accuracies.append(accuracy)\n",
        "    print('Training data size of %d => accuracy %f' % (x_train_subset.shape[0], accuracy))\n",
        "\n",
        "    predictions = model.predict(x_train[train_indices,...])\n",
        "    train_indices = prioritizer(train_indices, predictions)\n",
        "\n",
        "  return test_accuracies\n"
      ],
      "execution_count": 0,
      "outputs": []
    },
    {
      "cell_type": "markdown",
      "metadata": {
        "id": "WZ1wtKah_GHA",
        "colab_type": "text"
      },
      "source": [
        "## Baseline\n",
        "As a baseline lets just add more items to the training set without regard for how the current model fares.  This gives a sense for how quickly the model improves merely by adding unpreferential labeled data.  Its interesting to note on how little data the model needs for the MNIST dataset (e.g. 90% accuracy at 2,000 samples -- it takes the next 58,000 samples to get to 97.5%)"
      ]
    },
    {
      "cell_type": "code",
      "metadata": {
        "id": "6sZveKUX09YP",
        "colab_type": "code",
        "colab": {
          "base_uri": "https://localhost:8080/",
          "height": 785
        },
        "outputId": "1f41dadc-5743-42e0-d439-7160991b0e0e"
      },
      "source": [
        "unprioritized_accuracies = eval_prioritization_strategy(lambda indices, pred: indices)"
      ],
      "execution_count": 4,
      "outputs": [
        {
          "output_type": "stream",
          "text": [
            "WARNING: Logging before flag parsing goes to stderr.\n",
            "W0619 12:41:26.357182 139777633695616 deprecation.py:323] From /usr/local/lib/python3.6/dist-packages/tensorflow/python/ops/math_grad.py:1250: add_dispatch_support.<locals>.wrapper (from tensorflow.python.ops.array_ops) is deprecated and will be removed in a future version.\n",
            "Instructions for updating:\n",
            "Use tf.where in 2.0, which has the same broadcast rule as np.where\n"
          ],
          "name": "stderr"
        },
        {
          "output_type": "stream",
          "text": [
            "Training data size of 500 => accuracy 0.823700\n",
            "Training data size of 1000 => accuracy 0.867300\n",
            "Training data size of 1500 => accuracy 0.889800\n",
            "Training data size of 2000 => accuracy 0.901400\n",
            "Training data size of 2500 => accuracy 0.897400\n",
            "Training data size of 3000 => accuracy 0.902200\n",
            "Training data size of 3500 => accuracy 0.922500\n",
            "Training data size of 4000 => accuracy 0.921600\n",
            "Training data size of 4500 => accuracy 0.923100\n",
            "Training data size of 5000 => accuracy 0.926700\n",
            "Training data size of 5500 => accuracy 0.931800\n",
            "Training data size of 6000 => accuracy 0.931100\n",
            "Training data size of 6500 => accuracy 0.935100\n",
            "Training data size of 7000 => accuracy 0.931800\n",
            "Training data size of 7500 => accuracy 0.938500\n",
            "Training data size of 8000 => accuracy 0.937900\n",
            "Training data size of 8500 => accuracy 0.936000\n",
            "Training data size of 9000 => accuracy 0.938900\n",
            "Training data size of 9500 => accuracy 0.938400\n",
            "Training data size of 10000 => accuracy 0.944100\n",
            "Training data size of 10500 => accuracy 0.946900\n",
            "Training data size of 11000 => accuracy 0.947300\n",
            "Training data size of 11500 => accuracy 0.941600\n",
            "Training data size of 12000 => accuracy 0.941800\n",
            "Training data size of 12500 => accuracy 0.950600\n",
            "Training data size of 13000 => accuracy 0.955500\n",
            "Training data size of 13500 => accuracy 0.953700\n",
            "Training data size of 14000 => accuracy 0.954000\n",
            "Training data size of 14500 => accuracy 0.956100\n",
            "Training data size of 15000 => accuracy 0.956300\n",
            "Training data size of 15500 => accuracy 0.954100\n",
            "Training data size of 16000 => accuracy 0.951100\n",
            "Training data size of 16500 => accuracy 0.958000\n",
            "Training data size of 17000 => accuracy 0.958200\n",
            "Training data size of 17500 => accuracy 0.957100\n",
            "Training data size of 18000 => accuracy 0.960000\n",
            "Training data size of 18500 => accuracy 0.962500\n",
            "Training data size of 19000 => accuracy 0.960900\n",
            "Training data size of 19500 => accuracy 0.962300\n",
            "Training data size of 20000 => accuracy 0.959300\n"
          ],
          "name": "stdout"
        }
      ]
    },
    {
      "cell_type": "code",
      "metadata": {
        "id": "7R7r2CGOBouu",
        "colab_type": "code",
        "colab": {
          "base_uri": "https://localhost:8080/",
          "height": 286
        },
        "outputId": "d72e4a20-d5cc-4476-d5ec-8b1a1e63df06"
      },
      "source": [
        "plt.plot(unprioritized_accuracies, 'k', label='baseline')\n",
        "plt.legend()"
      ],
      "execution_count": 5,
      "outputs": [
        {
          "output_type": "execute_result",
          "data": {
            "text/plain": [
              "<matplotlib.legend.Legend at 0x7f203f20ee48>"
            ]
          },
          "metadata": {
            "tags": []
          },
          "execution_count": 5
        },
        {
          "output_type": "display_data",
          "data": {
            "image/png": "[encoded data removed]",
            "text/plain": [
              "<Figure size 432x288 with 1 Axes>"
            ]
          },
          "metadata": {
            "tags": []
          }
        }
      ]
    },
    {
      "cell_type": "markdown",
      "metadata": {
        "id": "x_E3l2kU_4jE",
        "colab_type": "text"
      },
      "source": [
        "## Prioritize \"least confidence\"\n",
        "Now lets prioritize adding data that the model is most unsure about, in the hopes that it will more rapidly improve the models test accuracy.  \"unsure\" in this context are those items with the lowest maximum logit (meaning its prediction is weak)."
      ]
    },
    {
      "cell_type": "code",
      "metadata": {
        "id": "_d3l8a5J0aOC",
        "colab_type": "code",
        "colab": {}
      },
      "source": [
        "def least_confidence_prediction_prioritizer(indices, predictions):\n",
        "  max_logit = list(zip(indices, np.amax(predictions,axis=1)))\n",
        "  max_logit.sort(key=lambda x: x[1]) # sort in ascending order\n",
        "  return list(zip(*max_logit))[0]"
      ],
      "execution_count": 0,
      "outputs": []
    },
    {
      "cell_type": "code",
      "metadata": {
        "id": "a8OKcvoT0n5i",
        "colab_type": "code",
        "colab": {
          "base_uri": "https://localhost:8080/",
          "height": 697
        },
        "outputId": "14fec4d4-7064-45d5-beab-c9d697a45779"
      },
      "source": [
        "least_confidence_accuracies = eval_prioritization_strategy(least_confidence_prediction_prioritizer)"
      ],
      "execution_count": 7,
      "outputs": [
        {
          "output_type": "stream",
          "text": [
            "Training data size of 500 => accuracy 0.823600\n",
            "Training data size of 1000 => accuracy 0.872000\n",
            "Training data size of 1500 => accuracy 0.890600\n",
            "Training data size of 2000 => accuracy 0.914200\n",
            "Training data size of 2500 => accuracy 0.922400\n",
            "Training data size of 3000 => accuracy 0.937400\n",
            "Training data size of 3500 => accuracy 0.947300\n",
            "Training data size of 4000 => accuracy 0.951600\n",
            "Training data size of 4500 => accuracy 0.953500\n",
            "Training data size of 5000 => accuracy 0.960600\n",
            "Training data size of 5500 => accuracy 0.962000\n",
            "Training data size of 6000 => accuracy 0.965400\n",
            "Training data size of 6500 => accuracy 0.970100\n",
            "Training data size of 7000 => accuracy 0.966200\n",
            "Training data size of 7500 => accuracy 0.970100\n",
            "Training data size of 8000 => accuracy 0.970300\n",
            "Training data size of 8500 => accuracy 0.971800\n",
            "Training data size of 9000 => accuracy 0.972200\n",
            "Training data size of 9500 => accuracy 0.972600\n",
            "Training data size of 10000 => accuracy 0.973300\n",
            "Training data size of 10500 => accuracy 0.972600\n",
            "Training data size of 11000 => accuracy 0.972600\n",
            "Training data size of 11500 => accuracy 0.974000\n",
            "Training data size of 12000 => accuracy 0.971600\n",
            "Training data size of 12500 => accuracy 0.974900\n",
            "Training data size of 13000 => accuracy 0.974700\n",
            "Training data size of 13500 => accuracy 0.973600\n",
            "Training data size of 14000 => accuracy 0.975300\n",
            "Training data size of 14500 => accuracy 0.973300\n",
            "Training data size of 15000 => accuracy 0.974300\n",
            "Training data size of 15500 => accuracy 0.975700\n",
            "Training data size of 16000 => accuracy 0.975500\n",
            "Training data size of 16500 => accuracy 0.976300\n",
            "Training data size of 17000 => accuracy 0.974200\n",
            "Training data size of 17500 => accuracy 0.975600\n",
            "Training data size of 18000 => accuracy 0.977200\n",
            "Training data size of 18500 => accuracy 0.975200\n",
            "Training data size of 19000 => accuracy 0.973800\n",
            "Training data size of 19500 => accuracy 0.975600\n",
            "Training data size of 20000 => accuracy 0.974700\n"
          ],
          "name": "stdout"
        }
      ]
    },
    {
      "cell_type": "code",
      "metadata": {
        "id": "XaX_W9tDBrBT",
        "colab_type": "code",
        "colab": {
          "base_uri": "https://localhost:8080/",
          "height": 286
        },
        "outputId": "c08cee8d-bdfd-4458-d4aa-5d6edacfbca1"
      },
      "source": [
        "plt.plot(unprioritized_accuracies, 'k', label='baseline')\n",
        "plt.plot(least_confidence_accuracies, 'b', label='least confidence')\n",
        "plt.legend()"
      ],
      "execution_count": 8,
      "outputs": [
        {
          "output_type": "execute_result",
          "data": {
            "text/plain": [
              "<matplotlib.legend.Legend at 0x7f20355acac8>"
            ]
          },
          "metadata": {
            "tags": []
          },
          "execution_count": 8
        },
        {
          "output_type": "display_data",
          "data": {
            "image/png": "[encoded data removed]",
            "text/plain": [
              "<Figure size 432x288 with 1 Axes>"
            ]
          },
          "metadata": {
            "tags": []
          }
        }
      ]
    },
    {
      "cell_type": "markdown",
      "metadata": {
        "id": "VZjEpPlKAVfK",
        "colab_type": "text"
      },
      "source": [
        "## Prioritize \"highest entropy\" of the resulting softmax\n",
        "Lets try a different measure of what to prioritize.  Lets pick the predictions which have the highest entropy of the resulting softmax.  Meaning the model is most \"evenly confused\" across all categories.  e.g. a prediction of [.1,.1,.1,.1,.1,.1,.1,.1,.1,.1] would be the most desirable candidate to add."
      ]
    },
    {
      "cell_type": "code",
      "metadata": {
        "id": "X9Y3tjuB3o0C",
        "colab_type": "code",
        "colab": {}
      },
      "source": [
        "def entropy_prioritizer(indices, predictions):\n",
        "  p = predictions * np.log(predictions)\n",
        "  p = -p.sum(axis=1)\n",
        "  p = list(zip(indices, p))\n",
        "  p.sort(reverse=True, key=lambda x : x[1]) # sort in descending order\n",
        "  return list(zip(*p))[0]\n"
      ],
      "execution_count": 0,
      "outputs": []
    },
    {
      "cell_type": "code",
      "metadata": {
        "id": "XUOO9ilb49Lv",
        "colab_type": "code",
        "colab": {
          "base_uri": "https://localhost:8080/",
          "height": 1156
        },
        "outputId": "f2410c38-b714-4288-92b1-2b527b1c5125"
      },
      "source": [
        "entropy_prioritized_accuracies = eval_prioritization_strategy(entropy_prioritizer)"
      ],
      "execution_count": 13,
      "outputs": [
        {
          "output_type": "stream",
          "text": [
            "Training data size of 7000 => accuracy 0.966000\n",
            "Training data size of 7500 => accuracy 0.970700\n",
            "Training data size of 8000 => accuracy 0.967600\n",
            "Training data size of 8500 => accuracy 0.970700\n",
            "Training data size of 9000 => accuracy 0.971600\n",
            "Training data size of 9500 => accuracy 0.969100\n",
            "Training data size of 10000 => accuracy 0.969100\n",
            "Training data size of 10500 => accuracy 0.971300\n",
            "Training data size of 11000 => accuracy 0.971700\n",
            "Training data size of 11500 => accuracy 0.973000\n",
            "Training data size of 12000 => accuracy 0.972900\n",
            "Training data size of 12500 => accuracy 0.974700\n",
            "Training data size of 13000 => accuracy 0.971500\n",
            "Training data size of 13500 => accuracy 0.976100\n",
            "Training data size of 14000 => accuracy 0.975200\n",
            "Training data size of 14500 => accuracy 0.976200\n",
            "Training data size of 15000 => accuracy 0.973600\n",
            "Training data size of 15500 => accuracy 0.973100\n",
            "Training data size of 16000 => accuracy 0.977300\n",
            "Training data size of 16500 => accuracy 0.974700\n",
            "Training data size of 17000 => accuracy 0.974200\n",
            "Training data size of 17500 => accuracy 0.976300\n",
            "Training data size of 18000 => accuracy 0.977500\n",
            "Training data size of 18500 => accuracy 0.975800\n",
            "Training data size of 19000 => accuracy 0.975700\n",
            "Training data size of 19500 => accuracy 0.974400\n",
            "Training data size of 20000 => accuracy 0.976900\n",
            "Training data size of 500 => accuracy 0.820700\n",
            "Training data size of 1000 => accuracy 0.837500\n",
            "Training data size of 1500 => accuracy 0.888400\n",
            "Training data size of 2000 => accuracy 0.906600\n",
            "Training data size of 2500 => accuracy 0.916200\n",
            "Training data size of 3000 => accuracy 0.924800\n",
            "Training data size of 3500 => accuracy 0.939600\n",
            "Training data size of 4000 => accuracy 0.943900\n",
            "Training data size of 4500 => accuracy 0.952700\n",
            "Training data size of 5000 => accuracy 0.954300\n",
            "Training data size of 5500 => accuracy 0.954900\n",
            "Training data size of 6000 => accuracy 0.959100\n",
            "Training data size of 6500 => accuracy 0.963700\n",
            "Training data size of 7000 => accuracy 0.961600\n",
            "Training data size of 7500 => accuracy 0.967000\n",
            "Training data size of 8000 => accuracy 0.969700\n",
            "Training data size of 8500 => accuracy 0.971300\n",
            "Training data size of 9000 => accuracy 0.971100\n",
            "Training data size of 9500 => accuracy 0.971600\n",
            "Training data size of 10000 => accuracy 0.970100\n",
            "Training data size of 10500 => accuracy 0.974200\n",
            "Training data size of 11000 => accuracy 0.972900\n",
            "Training data size of 11500 => accuracy 0.969600\n",
            "Training data size of 12000 => accuracy 0.972100\n",
            "Training data size of 12500 => accuracy 0.973400\n",
            "Training data size of 13000 => accuracy 0.975000\n",
            "Training data size of 13500 => accuracy 0.973600\n",
            "Training data size of 14000 => accuracy 0.975500\n",
            "Training data size of 14500 => accuracy 0.974700\n",
            "Training data size of 15000 => accuracy 0.973400\n",
            "Training data size of 15500 => accuracy 0.974100\n",
            "Training data size of 16000 => accuracy 0.976000\n",
            "Training data size of 16500 => accuracy 0.974900\n",
            "Training data size of 17000 => accuracy 0.977600\n",
            "Training data size of 17500 => accuracy 0.973100\n",
            "Training data size of 18000 => accuracy 0.972800\n",
            "Training data size of 18500 => accuracy 0.974600\n",
            "Training data size of 19000 => accuracy 0.975800\n",
            "Training data size of 19500 => accuracy 0.975600\n",
            "Training data size of 20000 => accuracy 0.975700\n"
          ],
          "name": "stdout"
        }
      ]
    },
    {
      "cell_type": "code",
      "metadata": {
        "id": "xMCHlU785g29",
        "colab_type": "code",
        "colab": {
          "base_uri": "https://localhost:8080/",
          "height": 286
        },
        "outputId": "bf54d906-65a7-4ffe-f1f2-bfaf86b80b7f"
      },
      "source": [
        "plt.plot(unprioritized_accuracies, 'k', label='baseline')\n",
        "plt.plot(least_confidence_accuracies, 'b', label='least confidence')\n",
        "plt.plot(entropy_prioritized_accuracies, 'g', label='highest entropy')\n",
        "plt.legend()"
      ],
      "execution_count": 14,
      "outputs": [
        {
          "output_type": "execute_result",
          "data": {
            "text/plain": [
              "<matplotlib.legend.Legend at 0x7f202cc0f898>"
            ]
          },
          "metadata": {
            "tags": []
          },
          "execution_count": 14
        },
        {
          "output_type": "display_data",
          "data": {
            "image/png": "[encoded data removed]",
            "text/plain": [
              "<Figure size 432x288 with 1 Axes>"
            ]
          },
          "metadata": {
            "tags": []
          }
        }
      ]
    },
    {
      "cell_type": "markdown",
      "metadata": {
        "id": "JJ0YWtg55Fzr",
        "colab_type": "text"
      },
      "source": [
        "## Prioritize \"least margin\"\n",
        "Another way to prioritize is look for instances where the first and second choice are very close, known as the \"margin\"."
      ]
    },
    {
      "cell_type": "code",
      "metadata": {
        "id": "kAB42FemzUzf",
        "colab_type": "code",
        "colab": {}
      },
      "source": [
        "def margin_prioritizer(indices, predictions):\n",
        "  p = -np.sort(-predictions) # sort in descending order\n",
        "  p = p[:,0] - p[:,1]\n",
        "  p = list(zip(indices, p))\n",
        "  p.sort(key=lambda x : x[1]) # sort in ascending order\n",
        "  return list(zip(*p))[0]\n"
      ],
      "execution_count": 0,
      "outputs": []
    },
    {
      "cell_type": "code",
      "metadata": {
        "id": "GqTVEgkT0YDi",
        "colab_type": "code",
        "colab": {
          "base_uri": "https://localhost:8080/",
          "height": 697
        },
        "outputId": "57a5a8f1-0bda-46eb-fab0-0c77cd67735f"
      },
      "source": [
        "margin_prioritized_accuracies = eval_prioritization_strategy(margin_prioritizer)"
      ],
      "execution_count": 16,
      "outputs": [
        {
          "output_type": "stream",
          "text": [
            "Training data size of 500 => accuracy 0.820900\n",
            "Training data size of 1000 => accuracy 0.903800\n",
            "Training data size of 1500 => accuracy 0.894400\n",
            "Training data size of 2000 => accuracy 0.926800\n",
            "Training data size of 2500 => accuracy 0.930400\n",
            "Training data size of 3000 => accuracy 0.947700\n",
            "Training data size of 3500 => accuracy 0.951000\n",
            "Training data size of 4000 => accuracy 0.953300\n",
            "Training data size of 4500 => accuracy 0.959600\n",
            "Training data size of 5000 => accuracy 0.961300\n",
            "Training data size of 5500 => accuracy 0.958900\n",
            "Training data size of 6000 => accuracy 0.966000\n",
            "Training data size of 6500 => accuracy 0.967500\n",
            "Training data size of 7000 => accuracy 0.967900\n",
            "Training data size of 7500 => accuracy 0.970400\n",
            "Training data size of 8000 => accuracy 0.969400\n",
            "Training data size of 8500 => accuracy 0.972600\n",
            "Training data size of 9000 => accuracy 0.972400\n",
            "Training data size of 9500 => accuracy 0.971200\n",
            "Training data size of 10000 => accuracy 0.973100\n",
            "Training data size of 10500 => accuracy 0.975000\n",
            "Training data size of 11000 => accuracy 0.971400\n",
            "Training data size of 11500 => accuracy 0.974200\n",
            "Training data size of 12000 => accuracy 0.974100\n",
            "Training data size of 12500 => accuracy 0.976300\n",
            "Training data size of 13000 => accuracy 0.974300\n",
            "Training data size of 13500 => accuracy 0.975300\n",
            "Training data size of 14000 => accuracy 0.974000\n",
            "Training data size of 14500 => accuracy 0.975000\n",
            "Training data size of 15000 => accuracy 0.977000\n",
            "Training data size of 15500 => accuracy 0.974200\n",
            "Training data size of 16000 => accuracy 0.975200\n",
            "Training data size of 16500 => accuracy 0.976100\n",
            "Training data size of 17000 => accuracy 0.977000\n",
            "Training data size of 17500 => accuracy 0.976100\n",
            "Training data size of 18000 => accuracy 0.977300\n",
            "Training data size of 18500 => accuracy 0.974400\n",
            "Training data size of 19000 => accuracy 0.976100\n",
            "Training data size of 19500 => accuracy 0.976500\n",
            "Training data size of 20000 => accuracy 0.975100\n"
          ],
          "name": "stdout"
        }
      ]
    },
    {
      "cell_type": "code",
      "metadata": {
        "id": "PJ_XoI9a3Yua",
        "colab_type": "code",
        "colab": {
          "base_uri": "https://localhost:8080/",
          "height": 286
        },
        "outputId": "117de181-c74f-444b-9e76-74f233871594"
      },
      "source": [
        "plt.plot(unprioritized_accuracies, 'k', label='baseline')\n",
        "plt.plot(least_confidence_accuracies, 'b', label='least confidence')\n",
        "plt.plot(entropy_prioritized_accuracies, 'g', label='highest entropy')\n",
        "plt.plot(margin_prioritized_accuracies, 'r', label='least margin')\n",
        "plt.legend()"
      ],
      "execution_count": 17,
      "outputs": [
        {
          "output_type": "execute_result",
          "data": {
            "text/plain": [
              "<matplotlib.legend.Legend at 0x7f2024fed4e0>"
            ]
          },
          "metadata": {
            "tags": []
          },
          "execution_count": 17
        },
        {
          "output_type": "display_data",
          "data": {
            "image/png": "[encoded data removed]",
            "text/plain": [
              "<Figure size 432x288 with 1 Axes>"
            ]
          },
          "metadata": {
            "tags": []
          }
        }
      ]
    },
    {
      "cell_type": "markdown",
      "metadata": {
        "id": "8OHgZsYMFyIL",
        "colab_type": "text"
      },
      "source": [
        "## Conclusion\n",
        "Its impressive that with smart selection of which samples to label we can achieve 95% test accuracy on only 3,500 samples, vs without such smart selection it would take 13,000 samples!\n",
        "\n",
        "Its also interesting to note that the best performing strategy is \"least margin\", which can be viewed as \"highest entropy amongst the top N for N=2\".  Would be interesting to try N=3 and see if it performs any better.  Is there something special about N=2?"
      ]
    }
  ]
}